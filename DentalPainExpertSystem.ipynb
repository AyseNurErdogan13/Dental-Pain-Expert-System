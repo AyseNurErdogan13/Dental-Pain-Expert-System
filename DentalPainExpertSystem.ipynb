{
  "nbformat": 4,
  "nbformat_minor": 0,
  "metadata": {
    "colab": {
      "provenance": []
    },
    "kernelspec": {
      "name": "python3",
      "display_name": "Python 3"
    },
    "language_info": {
      "name": "python"
    }
  },
  "cells": [
    {
      "cell_type": "code",
      "execution_count": 2,
      "metadata": {
        "id": "IHxjRwr4g2Yp"
      },
      "outputs": [],
      "source": [
        "from random import choice\n",
        "from experta import *"
      ]
    },
    {
      "cell_type": "code",
      "source": [
        "!pip install experta"
      ],
      "metadata": {
        "colab": {
          "base_uri": "https://localhost:8080/"
        },
        "id": "rlkIZ5QIg4TY",
        "outputId": "d394d9b3-d0d6-4fff-86e6-eb9b36bb07b5"
      },
      "execution_count": 1,
      "outputs": [
        {
          "output_type": "stream",
          "name": "stdout",
          "text": [
            "Looking in indexes: https://pypi.org/simple, https://us-python.pkg.dev/colab-wheels/public/simple/\n",
            "Collecting experta\n",
            "  Downloading experta-1.9.4-py3-none-any.whl (35 kB)\n",
            "Collecting frozendict==1.2\n",
            "  Downloading frozendict-1.2.tar.gz (2.6 kB)\n",
            "  Preparing metadata (setup.py) ... \u001b[?25l\u001b[?25hdone\n",
            "Collecting schema==0.6.7\n",
            "  Downloading schema-0.6.7-py2.py3-none-any.whl (14 kB)\n",
            "Building wheels for collected packages: frozendict\n",
            "  Building wheel for frozendict (setup.py) ... \u001b[?25l\u001b[?25hdone\n",
            "  Created wheel for frozendict: filename=frozendict-1.2-py3-none-any.whl size=3166 sha256=0ca541bc776ce6a459422421bf62d3fb13aa8770d12c1c6248678076c61b86af\n",
            "  Stored in directory: /root/.cache/pip/wheels/5b/fa/ab/0a80360debb57b95f092356ee3a075bbbffc631b9813136599\n",
            "Successfully built frozendict\n",
            "Installing collected packages: schema, frozendict, experta\n",
            "  Attempting uninstall: frozendict\n",
            "    Found existing installation: frozendict 2.3.7\n",
            "    Uninstalling frozendict-2.3.7:\n",
            "      Successfully uninstalled frozendict-2.3.7\n",
            "\u001b[31mERROR: pip's dependency resolver does not currently take into account all the packages that are installed. This behaviour is the source of the following dependency conflicts.\n",
            "yfinance 0.2.18 requires frozendict>=2.3.4, but you have frozendict 1.2 which is incompatible.\u001b[0m\u001b[31m\n",
            "\u001b[0mSuccessfully installed experta-1.9.4 frozendict-1.2 schema-0.6.7\n"
          ]
        }
      ]
    },
    {
      "cell_type": "code",
      "source": [
        "class Toothache(Fact):\n",
        "  \"\"\"General information about toothache\"\"\"\n",
        "  pass"
      ],
      "metadata": {
        "id": "R1o8qOs9hClX"
      },
      "execution_count": 3,
      "outputs": []
    },
    {
      "cell_type": "markdown",
      "source": [
        "Below are the rules for toothache and solutions to these rules;\n",
        "- Rule1 = If gum bleeding occurs while brushing, there is dental disease and consult a dentist.\n",
        "- Rule2 = If gum bleeding occurs for a long time while brushing, there is gingival recession and consult a dentist.\n",
        "- Rule3 =  If there is gingival recession and the root of the tooth is visible, get a filling.\n",
        "- Rule4 = If the tooth has discoloration from food or drink, clean the teeth.\n",
        "- Rule5 = If bruising appears when a new tooth is erupting, consult your dentist.\n",
        "- Rule6 = If the tooth has cavities that do not cause pain, have a filling done.\n",
        "- Rule7 = If the tooth decay is advanced, have root canal treatment and filling."
      ],
      "metadata": {
        "id": "odu_UHNmicAE"
      }
    },
    {
      "cell_type": "code",
      "source": [
        "class DentalPainExpertSystem (KnowledgeEngine):\n",
        "  @Rule(Toothache(rule=\"Rule1\"))\n",
        "  def Rule1(self):\n",
        "    print(\" If gum bleeding occurs while brushing, there is dental disease and consult a dentist.\")\n",
        "  @Rule(Toothache(rule=\"Rule2\"))\n",
        "  def Rule2(self):\n",
        "    print(\" If gum bleeding occurs for a long time while brushing, there is gingival recession and consult a dentist.\")\n",
        "  @Rule(Toothache(rule=\"Rule3\"))\n",
        "  def Rule3(self):\n",
        "    print(\" If there is gingival recession and the root of the tooth is visible, get a filling.\")\n",
        "  @Rule(Toothache(rule=\"Rule4\"))\n",
        "  def Rule4(self):\n",
        "    print(\" If the tooth has discoloration from food or drink, clean the teeth.\")  \n",
        "  @Rule(Toothache(rule=\"Rule5\"))\n",
        "  def Rule5(self):\n",
        "    print(\" If bruising appears when a new tooth is erupting, consult your dentist.\")  \n",
        "  @Rule(Toothache(rule=\"Rule6\"))\n",
        "  def Rule6(self):\n",
        "    print(\" If the tooth has cavities that do not cause pain, have a filling done.\")  \n",
        "  @Rule(Toothache(rule=\"Rule7\"))\n",
        "  def Rule7(self):\n",
        "    print(\" If the tooth decay is advanced, have root canal treatment and filling.\") "
      ],
      "metadata": {
        "id": "4IN6GYSNhnur"
      },
      "execution_count": 4,
      "outputs": []
    },
    {
      "cell_type": "code",
      "source": [
        "expert =DentalPainExpertSystem()\n",
        "expert.reset()\n",
        "expert.declare(Toothache(rule=choice([\"Rule1\",\"Rule2\",\"Rule3\",\"Rule4\",\"Rule5\",\"Rule6\",\"Rule7\"])))\n",
        "expert.run()"
      ],
      "metadata": {
        "colab": {
          "base_uri": "https://localhost:8080/"
        },
        "id": "aBvb0PKrkL7f",
        "outputId": "fadf99cf-fb3f-433b-8c87-9edad6aa6c62"
      },
      "execution_count": 7,
      "outputs": [
        {
          "output_type": "stream",
          "name": "stdout",
          "text": [
            " If gum bleeding occurs for a long time while brushing, there is gingival recession and consult a dentist.\n"
          ]
        }
      ]
    }
  ]
}